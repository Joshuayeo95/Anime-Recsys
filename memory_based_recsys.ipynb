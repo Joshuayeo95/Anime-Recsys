{
 "cells": [
  {
   "cell_type": "code",
   "execution_count": 1,
   "metadata": {},
   "outputs": [],
   "source": [
    "from collections import defaultdict\n",
    "import pandas as pd\n",
    "import numpy as np\n",
    "import pickle\n",
    "import random\n",
    "\n",
    "from surprise import SVD, NMF, KNNWithMeans, KNNBaseline\n",
    "from surprise.model_selection import KFold, GridSearchCV\n",
    "from surprise.model_selection import train_test_split\n",
    "from surprise.model_selection import cross_validate\n",
    "from surprise import Reader, Dataset\n",
    "from surprise import accuracy\n",
    "\n",
    "from sklearn import model_selection"
   ]
  },
  {
   "cell_type": "code",
   "execution_count": 2,
   "metadata": {},
   "outputs": [],
   "source": [
    "SEED = 8888\n",
    "random.seed(SEED)"
   ]
  },
  {
   "cell_type": "code",
   "execution_count": 3,
   "metadata": {},
   "outputs": [],
   "source": [
    "with open('df_sample.pickle', 'rb') as f:\n",
    "    df = pickle.load(f)"
   ]
  },
  {
   "cell_type": "code",
   "execution_count": 4,
   "metadata": {},
   "outputs": [],
   "source": [
    "with open('anime_sample_dict.pickle', 'rb') as f:\n",
    "    anime_dict = pickle.load(f)"
   ]
  },
  {
   "cell_type": "code",
   "execution_count": 5,
   "metadata": {},
   "outputs": [],
   "source": [
    "with open('sample_users_watchlist.pickle', 'rb') as f:\n",
    "    users_watchlist = pickle.load(f)"
   ]
  },
  {
   "cell_type": "code",
   "execution_count": 6,
   "metadata": {},
   "outputs": [],
   "source": [
    "with open('sample_users_ratings.pickle', 'rb') as f:\n",
    "    users_ratings = pickle.load(f)"
   ]
  },
  {
   "cell_type": "code",
   "execution_count": 16,
   "metadata": {},
   "outputs": [],
   "source": [
    "def similar_anime_recommendations(anime, algo, k=10):\n",
    "    anime_iid = algo.trainset.to_inner_iid(anime)\n",
    "    anime_neighbors = algo.get_neighbors(anime_iid, k=k)\n",
    "    anime_neighbors_names = [algo.trainset.to_raw_iid(inner_id) for \\\n",
    "                             inner_id in anime_neighbors]\n",
    "    \n",
    "    print(f'If you liked {anime}, you may also like these animes:')\n",
    "    for similar_anime in anime_neighbors_names:\n",
    "        print(similar_anime) "
   ]
  },
  {
   "cell_type": "code",
   "execution_count": 8,
   "metadata": {},
   "outputs": [],
   "source": [
    "# Creating a Surprise Dataset object #\n",
    "reader = Reader(rating_scale=(1,10))\n",
    "data = Dataset.load_from_df(df[['user_idx', 'name', 'rating']], reader)"
   ]
  },
  {
   "cell_type": "code",
   "execution_count": 10,
   "metadata": {},
   "outputs": [
    {
     "name": "stdout",
     "output_type": "stream",
     "text": [
      "Computing the cosine similarity matrix...\n",
      "Done computing similarity matrix.\n",
      "Computing the cosine similarity matrix...\n",
      "Done computing similarity matrix.\n",
      "Computing the cosine similarity matrix...\n",
      "Done computing similarity matrix.\n",
      "Computing the cosine similarity matrix...\n",
      "Done computing similarity matrix.\n",
      "Computing the cosine similarity matrix...\n",
      "Done computing similarity matrix.\n",
      "Evaluating RMSE, MAE of algorithm KNNWithMeans on 5 split(s).\n",
      "\n",
      "                  Fold 1  Fold 2  Fold 3  Fold 4  Fold 5  Mean    Std     \n",
      "RMSE (testset)    2.1182  2.1122  2.1221  2.1297  2.1086  2.1181  0.0074  \n",
      "MAE (testset)     1.3886  1.3877  1.3894  1.3978  1.3898  1.3907  0.0036  \n",
      "Fit time          4.76    5.45    5.53    5.59    5.58    5.38    0.31    \n",
      "Test time         25.69   28.05   27.59   27.79   31.73   28.17   1.96    \n"
     ]
    },
    {
     "data": {
      "text/plain": [
       "{'test_rmse': array([2.11818859, 2.11215869, 2.12207776, 2.12966304, 2.10855102]),\n",
       " 'test_mae': array([1.3886222 , 1.38769418, 1.38944751, 1.39776558, 1.38979015]),\n",
       " 'fit_time': (4.761839866638184,\n",
       "  5.4464192390441895,\n",
       "  5.534144878387451,\n",
       "  5.589489221572876,\n",
       "  5.582438230514526),\n",
       " 'test_time': (25.69375467300415,\n",
       "  28.051936388015747,\n",
       "  27.58886694908142,\n",
       "  27.789535760879517,\n",
       "  31.725661277770996)}"
      ]
     },
     "execution_count": 10,
     "metadata": {},
     "output_type": "execute_result"
    }
   ],
   "source": [
    "sim_options = {'name': 'cosine', 'user_based': False}\n",
    "algo = KNNWithMeans(k=50, sim_options=sim_options)\n",
    "cross_validate(algo, data, verbose=True)"
   ]
  },
  {
   "cell_type": "code",
   "execution_count": 11,
   "metadata": {},
   "outputs": [
    {
     "name": "stdout",
     "output_type": "stream",
     "text": [
      "Computing the pearson similarity matrix...\n",
      "Done computing similarity matrix.\n",
      "Computing the pearson similarity matrix...\n",
      "Done computing similarity matrix.\n",
      "Computing the pearson similarity matrix...\n",
      "Done computing similarity matrix.\n",
      "Computing the pearson similarity matrix...\n",
      "Done computing similarity matrix.\n",
      "Computing the pearson similarity matrix...\n",
      "Done computing similarity matrix.\n",
      "Evaluating RMSE, MAE of algorithm KNNWithMeans on 5 split(s).\n",
      "\n",
      "                  Fold 1  Fold 2  Fold 3  Fold 4  Fold 5  Mean    Std     \n",
      "RMSE (testset)    2.0951  2.1075  2.0980  2.1030  2.1094  2.1026  0.0054  \n",
      "MAE (testset)     1.3780  1.3847  1.3788  1.3827  1.3841  1.3817  0.0028  \n",
      "Fit time          6.71    6.80    6.78    7.76    7.35    7.08    0.41    \n",
      "Test time         25.23   25.02   27.64   26.09   26.02   26.00   0.92    \n"
     ]
    },
    {
     "data": {
      "text/plain": [
       "{'test_rmse': array([2.0951327 , 2.10752916, 2.09796734, 2.10302288, 2.109407  ]),\n",
       " 'test_mae': array([1.37802985, 1.38469382, 1.37876926, 1.38272107, 1.38412463]),\n",
       " 'fit_time': (6.714022159576416,\n",
       "  6.803413152694702,\n",
       "  6.7826128005981445,\n",
       "  7.762157201766968,\n",
       "  7.3487935066223145),\n",
       " 'test_time': (25.22697138786316,\n",
       "  25.021977186203003,\n",
       "  27.635300874710083,\n",
       "  26.094757318496704,\n",
       "  26.022053718566895)}"
      ]
     },
     "execution_count": 11,
     "metadata": {},
     "output_type": "execute_result"
    }
   ],
   "source": [
    "sim_options = {'name': 'pearson', 'user_based': False}\n",
    "algo = KNNWithMeans(k=50, sim_options=sim_options)\n",
    "cross_validate(algo, data, verbose=True)"
   ]
  },
  {
   "cell_type": "code",
   "execution_count": 12,
   "metadata": {},
   "outputs": [
    {
     "name": "stdout",
     "output_type": "stream",
     "text": [
      "Computing the msd similarity matrix...\n",
      "Done computing similarity matrix.\n",
      "Computing the msd similarity matrix...\n",
      "Done computing similarity matrix.\n",
      "Computing the msd similarity matrix...\n",
      "Done computing similarity matrix.\n",
      "Computing the msd similarity matrix...\n",
      "Done computing similarity matrix.\n",
      "Computing the msd similarity matrix...\n",
      "Done computing similarity matrix.\n",
      "Evaluating RMSE, MAE of algorithm KNNWithMeans on 5 split(s).\n",
      "\n",
      "                  Fold 1  Fold 2  Fold 3  Fold 4  Fold 5  Mean    Std     \n",
      "RMSE (testset)    2.1001  2.1020  2.1030  2.0805  2.0967  2.0965  0.0083  \n",
      "MAE (testset)     1.3768  1.3745  1.3769  1.3646  1.3751  1.3736  0.0046  \n",
      "Fit time          3.07    3.23    3.23    3.23    3.78    3.31    0.25    \n",
      "Test time         26.41   25.76   26.06   27.89   30.70   27.36   1.82    \n"
     ]
    },
    {
     "data": {
      "text/plain": [
       "{'test_rmse': array([2.10010547, 2.10198112, 2.10301994, 2.08047988, 2.0966664 ]),\n",
       " 'test_mae': array([1.37676224, 1.37453   , 1.37692645, 1.36456867, 1.37508826]),\n",
       " 'fit_time': (3.065747022628784,\n",
       "  3.228817939758301,\n",
       "  3.230854034423828,\n",
       "  3.2277026176452637,\n",
       "  3.783285140991211),\n",
       " 'test_time': (26.407129049301147,\n",
       "  25.75839376449585,\n",
       "  26.05500864982605,\n",
       "  27.88563108444214,\n",
       "  30.695327520370483)}"
      ]
     },
     "execution_count": 12,
     "metadata": {},
     "output_type": "execute_result"
    }
   ],
   "source": [
    "sim_options = {'name': 'msd', 'user_based': False}\n",
    "algo = KNNWithMeans(k=50, sim_options=sim_options)\n",
    "cross_validate(algo, data, verbose=True)"
   ]
  },
  {
   "cell_type": "code",
   "execution_count": 13,
   "metadata": {},
   "outputs": [
    {
     "name": "stdout",
     "output_type": "stream",
     "text": [
      "Estimating biases using als...\n",
      "Computing the pearson_baseline similarity matrix...\n",
      "Done computing similarity matrix.\n",
      "Estimating biases using als...\n",
      "Computing the pearson_baseline similarity matrix...\n",
      "Done computing similarity matrix.\n",
      "Estimating biases using als...\n",
      "Computing the pearson_baseline similarity matrix...\n",
      "Done computing similarity matrix.\n",
      "Estimating biases using als...\n",
      "Computing the pearson_baseline similarity matrix...\n",
      "Done computing similarity matrix.\n",
      "Estimating biases using als...\n",
      "Computing the pearson_baseline similarity matrix...\n",
      "Done computing similarity matrix.\n",
      "Evaluating RMSE, MAE of algorithm KNNBaseline on 5 split(s).\n",
      "\n",
      "                  Fold 1  Fold 2  Fold 3  Fold 4  Fold 5  Mean    Std     \n",
      "RMSE (testset)    2.0328  2.0166  2.0185  2.0192  2.0164  2.0207  0.0061  \n",
      "MAE (testset)     1.3167  1.3079  1.3120  1.3081  1.3084  1.3106  0.0034  \n",
      "Fit time          8.94    9.19    10.86   9.22    9.68    9.58    0.68    \n",
      "Test time         28.42   28.18   32.06   32.22   27.84   29.75   1.97    \n"
     ]
    },
    {
     "data": {
      "text/plain": [
       "{'test_rmse': array([2.03276189, 2.01658891, 2.01845345, 2.01919979, 2.01641122]),\n",
       " 'test_mae': array([1.31666992, 1.30788919, 1.3119662 , 1.30812899, 1.30844818]),\n",
       " 'fit_time': (8.944912672042847,\n",
       "  9.194278240203857,\n",
       "  10.86074686050415,\n",
       "  9.215858936309814,\n",
       "  9.68273663520813),\n",
       " 'test_time': (28.421315908432007,\n",
       "  28.183903455734253,\n",
       "  32.0648148059845,\n",
       "  32.22036528587341,\n",
       "  27.836366176605225)}"
      ]
     },
     "execution_count": 13,
     "metadata": {},
     "output_type": "execute_result"
    }
   ],
   "source": [
    "sim_options = {'name': 'pearson_baseline', 'user_based': False}\n",
    "algo = KNNBaseline(k=50, sim_options=sim_options)\n",
    "cross_validate(algo, data, verbose=True)"
   ]
  },
  {
   "cell_type": "code",
   "execution_count": 14,
   "metadata": {},
   "outputs": [],
   "source": [
    "trainset = data.build_full_trainset()\n",
    "testset = trainset.build_anti_testset()"
   ]
  },
  {
   "cell_type": "code",
   "execution_count": 15,
   "metadata": {},
   "outputs": [
    {
     "name": "stdout",
     "output_type": "stream",
     "text": [
      "Estimating biases using als...\n",
      "Computing the pearson_baseline similarity matrix...\n",
      "Done computing similarity matrix.\n"
     ]
    },
    {
     "data": {
      "text/plain": [
       "<surprise.prediction_algorithms.knns.KNNBaseline at 0x7fd5971db490>"
      ]
     },
     "execution_count": 15,
     "metadata": {},
     "output_type": "execute_result"
    }
   ],
   "source": [
    "sim_options = {'name': 'pearson_baseline', 'user_based': False}\n",
    "algo = KNNBaseline(k=50, sim_options=sim_options)\n",
    "algo.fit(trainset)"
   ]
  },
  {
   "cell_type": "code",
   "execution_count": 25,
   "metadata": {},
   "outputs": [
    {
     "name": "stdout",
     "output_type": "stream",
     "text": [
      "If you liked One Punch Man, you may also like these animes:\n",
      "Sakurako-san no Ashimoto ni wa Shitai ga Umatteiru\n",
      "Fairy Tail (2014)\n",
      "Ore Monogatari!!\n",
      "Kiznaiver\n",
      "Haikyuu!! Second Season\n",
      "Dimension W\n",
      "Gate: Jieitai Kanochi nite, Kaku Tatakaeri 2nd Season\n",
      "Rakudai Kishi no Cavalry\n",
      "Owarimonogatari\n",
      "Owari no Seraph: Nagoya Kessen-hen\n"
     ]
    }
   ],
   "source": [
    "similar_anime_recommendations('One Punch Man', algo, k=10)"
   ]
  },
  {
   "cell_type": "code",
   "execution_count": 26,
   "metadata": {},
   "outputs": [],
   "source": [
    "with open('KNNBaseline_recommender.pickle', 'wb') as f:\n",
    "    pickle.dump(algo, f)"
   ]
  },
  {
   "cell_type": "code",
   "execution_count": null,
   "metadata": {},
   "outputs": [],
   "source": []
  }
 ],
 "metadata": {
  "kernelspec": {
   "display_name": "Python 3",
   "language": "python",
   "name": "python3"
  },
  "language_info": {
   "codemirror_mode": {
    "name": "ipython",
    "version": 3
   },
   "file_extension": ".py",
   "mimetype": "text/x-python",
   "name": "python",
   "nbconvert_exporter": "python",
   "pygments_lexer": "ipython3",
   "version": "3.7.4"
  }
 },
 "nbformat": 4,
 "nbformat_minor": 2
}
